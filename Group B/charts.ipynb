{
 "cells": [
  {
   "cell_type": "code",
   "execution_count": 1,
   "metadata": {},
   "outputs": [
    {
     "name": "stdout",
     "output_type": "stream",
     "text": [
      "             Building Name  Postcode  Year  latitude  longitude  \\\n",
      "0  EQUINIX SG3 DATA CENTRE    139963  2021    1.2767   103.8452   \n",
      "1  EQUINIX SG3 DATA CENTRE    139963  2022    1.2767   103.8452   \n",
      "2  EQUINIX SG3 DATA CENTRE    139963  2023    1.2767   103.8452   \n",
      "3               BLK 20 ARC    139964  2021    1.3883   103.9903   \n",
      "4               BLK 20 ARC    139964  2022    1.3883   103.9903   \n",
      "\n",
      "                                        Address                 Type Function  \\\n",
      "0     26A AYER RAJAH CRESCENT, SINGAPORE 139963  Commercial Building   Office   \n",
      "1     26A AYER RAJAH CRESCENT, SINGAPORE 139963  Commercial Building   Office   \n",
      "2     26A AYER RAJAH CRESCENT, SINGAPORE 139963  Commercial Building   Office   \n",
      "3  BLK 20 AYER RAJAH CRESCENT, SINGAPORE 139964  Commercial Building   Office   \n",
      "4  BLK 20 AYER RAJAH CRESCENT, SINGAPORE 139964  Commercial Building   Office   \n",
      "\n",
      "    Size  Employee  ...       Scope2       Scope3    GHG_Total          EUI  \\\n",
      "0  Large      3349  ...  1852.640909  1989.558830  3924.945017  4453.205775   \n",
      "1  Large      3349  ...  1884.787233  1868.680602  3835.801151  4579.589528   \n",
      "2  Large      3349  ...  1781.716523  1945.781794  3807.498883  5090.320582   \n",
      "3  Large      2718  ...  2240.932227  2027.108792  4394.747778  2213.995752   \n",
      "4  Large      2718  ...  2131.614329  2086.445643  4346.441727  2305.296865   \n",
      "\n",
      "   GHG_Intensity     Award  Year of GM Award             GM Version  \\\n",
      "0       0.111447  platinum            2022.0  Existing Data Centres   \n",
      "1       0.108916  platinum            2022.0  Existing Data Centres   \n",
      "2       0.108112  platinum            2022.0  Existing Data Centres   \n",
      "3       0.114599       NaN               NaN                    NaN   \n",
      "4       0.113339       NaN               NaN                    NaN   \n",
      "\n",
      "   Validation Result   YearDate  \n",
      "0               Fail 2021-01-01  \n",
      "1               Pass 2022-01-01  \n",
      "2               Pass 2023-01-01  \n",
      "3      No Green Mark 2021-01-01  \n",
      "4      No Green Mark 2022-01-01  \n",
      "\n",
      "[5 rows x 26 columns]\n"
     ]
    }
   ],
   "source": [
    "from dash import Dash, html, dcc, callback, Output, Input\n",
    "import plotly.express as px\n",
    "import pandas as pd\n",
    "import numpy as np\n",
    "import plotly.graph_objects as go\n",
    "\n",
    "\n",
    "df = pd.read_csv('merged_df.csv', encoding=\"utf-8\", encoding_errors='ignore')\n",
    "df['YearDate'] = pd.to_datetime(df['Year'].astype('str') + '-01-01')\n",
    "print(df.head())\n",
    "app = Dash()\n",
    "\n",
    "app.layout = html.Div(children=[\n",
    "    html.H1(children='Title of Dash App', style={'textAlign': 'center'}),\n",
    "    dcc.Dropdown(df[\"Building Name\"].unique(), 'Building Name', id='dropdown-selection'),\n",
    "    html.Section(style={\"display\": 'grid', \"grid-template-columns\": 'repeat(2,1fr)'},\n",
    "                 children=[html.Div(children=[dcc.Graph(id='year_trend_line')]),\n",
    "                           html.Div(children=[dcc.Graph(id='award')]),\n",
    "                           html.Div(children=[dcc.Graph(id='histogram')]),\n",
    "                           html.Div(children=[dcc.Graph(id='pie')])]\n",
    "                 )\n",
    "\n",
    "])\n"
   ]
  },
  {
   "cell_type": "code",
   "execution_count": 2,
   "metadata": {},
   "outputs": [],
   "source": [
    "# Bubble\n",
    "@callback(\n",
    "    Output('year_trend_line', 'figure'),\n",
    "    Input('dropdown-selection', 'value')\n",
    ")\n",
    "def update_graph(value):\n",
    "    # 随机生成气泡的位置\n",
    "    num_bubbles = 4\n",
    "    x = [0, 1, 2, 3]\n",
    "    y = [2, 2, 2, 2]\n",
    "    bubble_data = df.groupby('Award').agg(unique_building_count=('Building Name', 'nunique')).reset_index()\n",
    "    bubble_data['x'] = x\n",
    "    bubble_data['y'] = y\n",
    "    # 创建气泡图\n",
    "    color_map={\n",
    "        \"Award\":\"#365E32\"\n",
    "    }\n",
    "    fig = go.Figure(data=[\n",
    "        go.Scatter(\n",
    "            x=x,\n",
    "            y=y,\n",
    "            mode='markers+text',\n",
    "            fillcolor=\"#365E32\",\n",
    "            marker=dict(\n",
    "                size=bubble_data[\"unique_building_count\"],\n",
    "                opacity=0.6,\n",
    "                color=\"#365E32\"\n",
    "            ),\n",
    "\n",
    "            text=bubble_data[\"Award\"],\n",
    "            textposition=\"top center\",\n",
    "\n",
    "        )\n",
    "    ])\n",
    "\n",
    "    fig.update_layout(title=\"Pure Bubble Chart\", showlegend=False,\n",
    "                      xaxis=dict(showgrid=False, showline=False, zeroline=False, visible=False),\n",
    "                      yaxis=dict(showgrid=False, showline=False, zeroline=False, visible=False), )\n",
    "    return fig\n"
   ]
  },
  {
   "cell_type": "code",
   "execution_count": 3,
   "metadata": {},
   "outputs": [],
   "source": [
    "# pie\n",
    "@callback(\n",
    "    Output('pie', 'figure'),\n",
    "    Input('dropdown-selection', 'value')\n",
    ")\n",
    "def update_graph(value):\n",
    "    # dff = df[df.country==value]\n",
    "    melt_cols = ['Building Name', \"Scope1\", \"Scope2\", \"Scope3\"]\n",
    "    pie_data = df[melt_cols]\n",
    "    pie_data = pd.melt(pie_data, id_vars='Building Name', var_name='key', value_name='value')\n",
    "    # cate_dic = dict(Scope1=\"Scope\", Scope2=\"Scope\", Scope3=\"Scope\")\n",
    "    # pie_data[\"key\"] = pie_data[\"key\"].apply(lambda x: cate_dic.get(x, x))\n",
    "    pie_data = pie_data.groupby('key').agg({\"value\": 'sum'}).reset_index()\n",
    "    # pie_data['key'] = df['key'].astype(str)\n",
    "    print(pie_data.head())\n",
    "    fig = px.pie(pie_data, names='key', color='key', values='value', title=\"Pie chart\",\n",
    "                 color_discrete_map={'Scope1': '#365E32',\n",
    "                                     'Scope2': '#81A263',\n",
    "                                     'Scope3': '#E7D37F'})\n",
    "    fig.update_traces(texttemplate='%{label}: %{percent:.2%}', textposition='outside')\n",
    "\n",
    "    return fig"
   ]
  },
  {
   "cell_type": "code",
   "execution_count": 4,
   "metadata": {},
   "outputs": [],
   "source": [
    "# histogram\n",
    "@callback(\n",
    "    Output('histogram', 'figure'),\n",
    "    Input('dropdown-selection', 'value')\n",
    ")\n",
    "def update_graph(value):\n",
    "    melt_cols = ['Building Name', \"Water\", \"Waste\"]\n",
    "    pie_data = df[melt_cols]\n",
    "    pie_data = pd.melt(pie_data, id_vars='Building Name', var_name='key', value_name='value')\n",
    "    # cate_dic = dict(Scope1=\"Scope\", Scope2=\"Scope\", Scope3=\"Scope\")\n",
    "    # pie_data[\"key\"] = pie_data[\"key\"].apply(lambda x: cate_dic.get(x, x))\n",
    "    pie_data = pie_data.groupby('key').agg({\"value\": 'sum'}).reset_index()\n",
    "    # pie_data['key'] = df['key'].astype(str)\n",
    "    print(pie_data.head())\n",
    "    fig = px.pie(pie_data, names='key', color='key', values='value', title=\"Pie chart\",\n",
    "                 color_discrete_map={'Water': '#365E32  ',\n",
    "                                     'Waste': '#81A263'})\n",
    "    fig.update_traces(texttemplate='%{label}: %{percent:.2%}', textposition='outside')\n",
    "    return fig\n"
   ]
  },
  {
   "cell_type": "code",
   "execution_count": 5,
   "metadata": {},
   "outputs": [
    {
     "data": {
      "text/html": [
       "\n",
       "        <iframe\n",
       "            width=\"100%\"\n",
       "            height=\"650\"\n",
       "            src=\"http://127.0.0.1:8050/\"\n",
       "            frameborder=\"0\"\n",
       "            allowfullscreen\n",
       "            \n",
       "        ></iframe>\n",
       "        "
      ],
      "text/plain": [
       "<IPython.lib.display.IFrame at 0x142e01f40>"
      ]
     },
     "metadata": {},
     "output_type": "display_data"
    },
    {
     "name": "stdout",
     "output_type": "stream",
     "text": [
      "      key         value\n",
      "0  Scope1  1.082395e+05\n",
      "1  Scope2  2.235645e+06\n",
      "2  Scope3  2.031066e+06\n",
      "     key         value\n",
      "0  Waste  4.204549e+05\n",
      "1  Water  1.135872e+08\n",
      "      key         value\n",
      "0  Scope1  1.082395e+05\n",
      "1  Scope2  2.235645e+06\n",
      "2  Scope3  2.031066e+06\n",
      "     key         value\n",
      "0  Waste  4.204549e+05\n",
      "1  Water  1.135872e+08\n"
     ]
    }
   ],
   "source": [
    "# violin\n",
    "@callback(\n",
    "    Output('award', 'figure'),\n",
    "    Input('dropdown-selection', 'value')\n",
    ")\n",
    "def update_graph(value):\n",
    "    melt_cols = ['Building Name', \"GHG_Intensity\"]\n",
    "    h_data = df[melt_cols]\n",
    "    fig = px.violin(h_data, x=\"GHG_Intensity\", box=True, points='all', title=\"Violin\",\n",
    "                    labels={\"GHG_Intensity\": \"Greenhouse Gas Emissions  Intensity\"})\n",
    "    fig.update_traces(marker=dict(color=\"green\"))\n",
    "    return fig\n",
    "\n",
    "\n",
    "if __name__ == '__main__':\n",
    "    app.run(debug=True)\n"
   ]
  },
  {
   "cell_type": "code",
   "execution_count": null,
   "metadata": {},
   "outputs": [],
   "source": []
  }
 ],
 "metadata": {
  "kernelspec": {
   "display_name": "base",
   "language": "python",
   "name": "python3"
  },
  "language_info": {
   "codemirror_mode": {
    "name": "ipython",
    "version": 3
   },
   "file_extension": ".py",
   "mimetype": "text/x-python",
   "name": "python",
   "nbconvert_exporter": "python",
   "pygments_lexer": "ipython3",
   "version": "3.12.4"
  }
 },
 "nbformat": 4,
 "nbformat_minor": 2
}
